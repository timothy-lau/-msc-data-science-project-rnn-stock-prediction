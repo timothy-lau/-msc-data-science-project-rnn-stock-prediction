{
 "cells": [
  {
   "cell_type": "code",
   "execution_count": 2,
   "id": "numerical-scenario",
   "metadata": {},
   "outputs": [],
   "source": [
    "import backtrader as bt\n",
    "import matplotlib.pyplot as plt\n",
    "%matplotlib inline\n",
    "\n",
    "import sqlalchemy as sa\n",
    "from datetime import datetime as dt\n",
    "from datetime import timedelta\n",
    "import yfinance as yf\n",
    "import itertools as it\n",
    "import pandas as pd\n",
    "\n",
    "from python.common.common import read_latest_file, read_pickle\n",
    "from python.config_reader import ConfigReader\n",
    "from python.common.mysql_connector import MySqlConnector\n",
    "from schema.data_model import StockPrices, Symbols"
   ]
  },
  {
   "cell_type": "code",
   "execution_count": 3,
   "id": "b8664382",
   "metadata": {},
   "outputs": [],
   "source": [
    "import math\n",
    "import matplotlib.pyplot as plt\n",
    "import keras\n",
    "import pandas as pd\n",
    "import numpy as np\n",
    "from keras.models import Sequential, load_model\n",
    "from keras.layers import Dense\n",
    "from keras.layers import LSTM\n",
    "from keras.layers import Dropout\n",
    "from keras.layers import *\n",
    "from sklearn.preprocessing import MinMaxScaler\n",
    "from sklearn.metrics import mean_squared_error\n",
    "from sklearn.metrics import mean_absolute_error\n",
    "from sklearn.model_selection import train_test_split\n",
    "from keras.callbacks import EarlyStopping"
   ]
  },
  {
   "cell_type": "code",
   "execution_count": 4,
   "id": "71eb22af",
   "metadata": {},
   "outputs": [],
   "source": [
    "# Initialise database connection\n",
    "engine = MySqlConnector(\n",
    "    host='localhost',\n",
    "    user='root',\n",
    "    password='db_user',\n",
    "    database='stock_db'\n",
    ")\n",
    "\n",
    "con = engine.con\n",
    "\n",
    "shortlist_stock_stmt = \"(SELECT symbol from dim_symbols where country='United States' order by market_cap desc limit 50) UNION ALL (SELECT symbol from dim_symbols where market_type != 'stock')\"\n",
    "\n",
    "shortlist_stock = con.execute(shortlist_stock_stmt).fetchall()\n",
    "\n",
    "sql_df = pd.read_sql(\n",
    "    sa.select(\n",
    "        StockPrices.stock_datetime, StockPrices.symbol, StockPrices.close, StockPrices.volume, Symbols.market_type, Symbols.sector) \\\n",
    "    .join(Symbols) \\\n",
    "    .where(StockPrices.symbol.in_([i[0] for i in shortlist_stock])), con)\n"
   ]
  },
  {
   "cell_type": "code",
   "execution_count": 5,
   "id": "831ef2a2",
   "metadata": {},
   "outputs": [],
   "source": [
    "sql_df = sql_df.join(pd.get_dummies(sql_df['sector'], prefix='sector_', drop_first=True)).drop('sector', axis=1)\n",
    "sql_df = sql_df.join(pd.get_dummies(sql_df['market_type'], prefix='market_type_', drop_first=True)).drop('market_type', axis=1)"
   ]
  },
  {
   "cell_type": "code",
   "execution_count": 6,
   "id": "89abbab6",
   "metadata": {},
   "outputs": [
    {
     "data": {
      "text/html": [
       "<div>\n",
       "<style scoped>\n",
       "    .dataframe tbody tr th:only-of-type {\n",
       "        vertical-align: middle;\n",
       "    }\n",
       "\n",
       "    .dataframe tbody tr th {\n",
       "        vertical-align: top;\n",
       "    }\n",
       "\n",
       "    .dataframe thead th {\n",
       "        text-align: right;\n",
       "    }\n",
       "</style>\n",
       "<table border=\"1\" class=\"dataframe\">\n",
       "  <thead>\n",
       "    <tr style=\"text-align: right;\">\n",
       "      <th></th>\n",
       "      <th>close</th>\n",
       "      <th>volume</th>\n",
       "      <th>sector__Consumer Non-Durables</th>\n",
       "      <th>sector__Consumer Services</th>\n",
       "      <th>sector__Energy</th>\n",
       "      <th>sector__Finance</th>\n",
       "      <th>sector__Health Care</th>\n",
       "      <th>sector__Miscellaneous</th>\n",
       "      <th>sector__N/A</th>\n",
       "      <th>sector__Public Utilities</th>\n",
       "      <th>sector__Technology</th>\n",
       "      <th>sector__Transportation</th>\n",
       "      <th>market_type__commodity</th>\n",
       "      <th>market_type__currency</th>\n",
       "      <th>market_type__index</th>\n",
       "      <th>market_type__stock</th>\n",
       "    </tr>\n",
       "  </thead>\n",
       "  <tbody>\n",
       "    <tr>\n",
       "      <th>close</th>\n",
       "      <td>1.000000</td>\n",
       "      <td>0.400111</td>\n",
       "      <td>-0.057898</td>\n",
       "      <td>-0.063709</td>\n",
       "      <td>-0.041147</td>\n",
       "      <td>-0.060050</td>\n",
       "      <td>-0.083047</td>\n",
       "      <td>-0.044801</td>\n",
       "      <td>0.344566</td>\n",
       "      <td>-0.041080</td>\n",
       "      <td>-0.091843</td>\n",
       "      <td>-0.027504</td>\n",
       "      <td>-0.016333</td>\n",
       "      <td>-0.083722</td>\n",
       "      <td>0.544363</td>\n",
       "      <td>-0.344566</td>\n",
       "    </tr>\n",
       "    <tr>\n",
       "      <th>volume</th>\n",
       "      <td>0.400111</td>\n",
       "      <td>1.000000</td>\n",
       "      <td>-0.037239</td>\n",
       "      <td>-0.057941</td>\n",
       "      <td>-0.025349</td>\n",
       "      <td>-0.035461</td>\n",
       "      <td>-0.053905</td>\n",
       "      <td>-0.032105</td>\n",
       "      <td>0.251016</td>\n",
       "      <td>-0.026007</td>\n",
       "      <td>-0.073956</td>\n",
       "      <td>-0.018395</td>\n",
       "      <td>-0.027996</td>\n",
       "      <td>-0.051907</td>\n",
       "      <td>0.074782</td>\n",
       "      <td>-0.251016</td>\n",
       "    </tr>\n",
       "    <tr>\n",
       "      <th>sector__Consumer Non-Durables</th>\n",
       "      <td>-0.057898</td>\n",
       "      <td>-0.037239</td>\n",
       "      <td>1.000000</td>\n",
       "      <td>-0.099620</td>\n",
       "      <td>-0.044376</td>\n",
       "      <td>-0.063738</td>\n",
       "      <td>-0.093118</td>\n",
       "      <td>-0.054753</td>\n",
       "      <td>-0.146195</td>\n",
       "      <td>-0.044359</td>\n",
       "      <td>-0.130002</td>\n",
       "      <td>-0.031127</td>\n",
       "      <td>-0.047016</td>\n",
       "      <td>-0.087169</td>\n",
       "      <td>-0.055349</td>\n",
       "      <td>0.146195</td>\n",
       "    </tr>\n",
       "    <tr>\n",
       "      <th>sector__Consumer Services</th>\n",
       "      <td>-0.063709</td>\n",
       "      <td>-0.057941</td>\n",
       "      <td>-0.099620</td>\n",
       "      <td>1.000000</td>\n",
       "      <td>-0.069386</td>\n",
       "      <td>-0.099660</td>\n",
       "      <td>-0.145599</td>\n",
       "      <td>-0.085611</td>\n",
       "      <td>-0.228589</td>\n",
       "      <td>-0.069360</td>\n",
       "      <td>-0.203269</td>\n",
       "      <td>-0.048670</td>\n",
       "      <td>-0.073513</td>\n",
       "      <td>-0.136297</td>\n",
       "      <td>-0.086542</td>\n",
       "      <td>0.228589</td>\n",
       "    </tr>\n",
       "    <tr>\n",
       "      <th>sector__Energy</th>\n",
       "      <td>-0.041147</td>\n",
       "      <td>-0.025349</td>\n",
       "      <td>-0.044376</td>\n",
       "      <td>-0.069386</td>\n",
       "      <td>1.000000</td>\n",
       "      <td>-0.044394</td>\n",
       "      <td>-0.064858</td>\n",
       "      <td>-0.038136</td>\n",
       "      <td>-0.101826</td>\n",
       "      <td>-0.030897</td>\n",
       "      <td>-0.090547</td>\n",
       "      <td>-0.021680</td>\n",
       "      <td>-0.032747</td>\n",
       "      <td>-0.060714</td>\n",
       "      <td>-0.038551</td>\n",
       "      <td>0.101826</td>\n",
       "    </tr>\n",
       "    <tr>\n",
       "      <th>sector__Finance</th>\n",
       "      <td>-0.060050</td>\n",
       "      <td>-0.035461</td>\n",
       "      <td>-0.063738</td>\n",
       "      <td>-0.099660</td>\n",
       "      <td>-0.044394</td>\n",
       "      <td>1.000000</td>\n",
       "      <td>-0.093155</td>\n",
       "      <td>-0.054775</td>\n",
       "      <td>-0.146253</td>\n",
       "      <td>-0.044377</td>\n",
       "      <td>-0.130053</td>\n",
       "      <td>-0.031140</td>\n",
       "      <td>-0.047034</td>\n",
       "      <td>-0.087204</td>\n",
       "      <td>-0.055370</td>\n",
       "      <td>0.146253</td>\n",
       "    </tr>\n",
       "    <tr>\n",
       "      <th>sector__Health Care</th>\n",
       "      <td>-0.083047</td>\n",
       "      <td>-0.053905</td>\n",
       "      <td>-0.093118</td>\n",
       "      <td>-0.145599</td>\n",
       "      <td>-0.064858</td>\n",
       "      <td>-0.093155</td>\n",
       "      <td>1.000000</td>\n",
       "      <td>-0.080024</td>\n",
       "      <td>-0.213670</td>\n",
       "      <td>-0.064833</td>\n",
       "      <td>-0.190002</td>\n",
       "      <td>-0.045494</td>\n",
       "      <td>-0.068715</td>\n",
       "      <td>-0.127402</td>\n",
       "      <td>-0.080894</td>\n",
       "      <td>0.213670</td>\n",
       "    </tr>\n",
       "    <tr>\n",
       "      <th>sector__Miscellaneous</th>\n",
       "      <td>-0.044801</td>\n",
       "      <td>-0.032105</td>\n",
       "      <td>-0.054753</td>\n",
       "      <td>-0.085611</td>\n",
       "      <td>-0.038136</td>\n",
       "      <td>-0.054775</td>\n",
       "      <td>-0.080024</td>\n",
       "      <td>1.000000</td>\n",
       "      <td>-0.125637</td>\n",
       "      <td>-0.038121</td>\n",
       "      <td>-0.111720</td>\n",
       "      <td>-0.026750</td>\n",
       "      <td>-0.040404</td>\n",
       "      <td>-0.074911</td>\n",
       "      <td>-0.047565</td>\n",
       "      <td>0.125637</td>\n",
       "    </tr>\n",
       "    <tr>\n",
       "      <th>sector__N/A</th>\n",
       "      <td>0.344566</td>\n",
       "      <td>0.251016</td>\n",
       "      <td>-0.146195</td>\n",
       "      <td>-0.228589</td>\n",
       "      <td>-0.101826</td>\n",
       "      <td>-0.146253</td>\n",
       "      <td>-0.213670</td>\n",
       "      <td>-0.125637</td>\n",
       "      <td>1.000000</td>\n",
       "      <td>-0.101787</td>\n",
       "      <td>-0.298302</td>\n",
       "      <td>-0.071425</td>\n",
       "      <td>0.321596</td>\n",
       "      <td>0.596254</td>\n",
       "      <td>0.378594</td>\n",
       "      <td>-1.000000</td>\n",
       "    </tr>\n",
       "    <tr>\n",
       "      <th>sector__Public Utilities</th>\n",
       "      <td>-0.041080</td>\n",
       "      <td>-0.026007</td>\n",
       "      <td>-0.044359</td>\n",
       "      <td>-0.069360</td>\n",
       "      <td>-0.030897</td>\n",
       "      <td>-0.044377</td>\n",
       "      <td>-0.064833</td>\n",
       "      <td>-0.038121</td>\n",
       "      <td>-0.101787</td>\n",
       "      <td>1.000000</td>\n",
       "      <td>-0.090512</td>\n",
       "      <td>-0.021672</td>\n",
       "      <td>-0.032734</td>\n",
       "      <td>-0.060691</td>\n",
       "      <td>-0.038536</td>\n",
       "      <td>0.101787</td>\n",
       "    </tr>\n",
       "    <tr>\n",
       "      <th>sector__Technology</th>\n",
       "      <td>-0.091843</td>\n",
       "      <td>-0.073956</td>\n",
       "      <td>-0.130002</td>\n",
       "      <td>-0.203269</td>\n",
       "      <td>-0.090547</td>\n",
       "      <td>-0.130053</td>\n",
       "      <td>-0.190002</td>\n",
       "      <td>-0.111720</td>\n",
       "      <td>-0.298302</td>\n",
       "      <td>-0.090512</td>\n",
       "      <td>1.000000</td>\n",
       "      <td>-0.063513</td>\n",
       "      <td>-0.095933</td>\n",
       "      <td>-0.177864</td>\n",
       "      <td>-0.112935</td>\n",
       "      <td>0.298302</td>\n",
       "    </tr>\n",
       "    <tr>\n",
       "      <th>sector__Transportation</th>\n",
       "      <td>-0.027504</td>\n",
       "      <td>-0.018395</td>\n",
       "      <td>-0.031127</td>\n",
       "      <td>-0.048670</td>\n",
       "      <td>-0.021680</td>\n",
       "      <td>-0.031140</td>\n",
       "      <td>-0.045494</td>\n",
       "      <td>-0.026750</td>\n",
       "      <td>-0.071425</td>\n",
       "      <td>-0.021672</td>\n",
       "      <td>-0.063513</td>\n",
       "      <td>1.000000</td>\n",
       "      <td>-0.022970</td>\n",
       "      <td>-0.042587</td>\n",
       "      <td>-0.027041</td>\n",
       "      <td>0.071425</td>\n",
       "    </tr>\n",
       "    <tr>\n",
       "      <th>market_type__commodity</th>\n",
       "      <td>-0.016333</td>\n",
       "      <td>-0.027996</td>\n",
       "      <td>-0.047016</td>\n",
       "      <td>-0.073513</td>\n",
       "      <td>-0.032747</td>\n",
       "      <td>-0.047034</td>\n",
       "      <td>-0.068715</td>\n",
       "      <td>-0.040404</td>\n",
       "      <td>0.321596</td>\n",
       "      <td>-0.032734</td>\n",
       "      <td>-0.095933</td>\n",
       "      <td>-0.022970</td>\n",
       "      <td>1.000000</td>\n",
       "      <td>-0.064325</td>\n",
       "      <td>-0.040844</td>\n",
       "      <td>-0.321596</td>\n",
       "    </tr>\n",
       "    <tr>\n",
       "      <th>market_type__currency</th>\n",
       "      <td>-0.083722</td>\n",
       "      <td>-0.051907</td>\n",
       "      <td>-0.087169</td>\n",
       "      <td>-0.136297</td>\n",
       "      <td>-0.060714</td>\n",
       "      <td>-0.087204</td>\n",
       "      <td>-0.127402</td>\n",
       "      <td>-0.074911</td>\n",
       "      <td>0.596254</td>\n",
       "      <td>-0.060691</td>\n",
       "      <td>-0.177864</td>\n",
       "      <td>-0.042587</td>\n",
       "      <td>-0.064325</td>\n",
       "      <td>1.000000</td>\n",
       "      <td>-0.075726</td>\n",
       "      <td>-0.596254</td>\n",
       "    </tr>\n",
       "    <tr>\n",
       "      <th>market_type__index</th>\n",
       "      <td>0.544363</td>\n",
       "      <td>0.074782</td>\n",
       "      <td>-0.055349</td>\n",
       "      <td>-0.086542</td>\n",
       "      <td>-0.038551</td>\n",
       "      <td>-0.055370</td>\n",
       "      <td>-0.080894</td>\n",
       "      <td>-0.047565</td>\n",
       "      <td>0.378594</td>\n",
       "      <td>-0.038536</td>\n",
       "      <td>-0.112935</td>\n",
       "      <td>-0.027041</td>\n",
       "      <td>-0.040844</td>\n",
       "      <td>-0.075726</td>\n",
       "      <td>1.000000</td>\n",
       "      <td>-0.378594</td>\n",
       "    </tr>\n",
       "    <tr>\n",
       "      <th>market_type__stock</th>\n",
       "      <td>-0.344566</td>\n",
       "      <td>-0.251016</td>\n",
       "      <td>0.146195</td>\n",
       "      <td>0.228589</td>\n",
       "      <td>0.101826</td>\n",
       "      <td>0.146253</td>\n",
       "      <td>0.213670</td>\n",
       "      <td>0.125637</td>\n",
       "      <td>-1.000000</td>\n",
       "      <td>0.101787</td>\n",
       "      <td>0.298302</td>\n",
       "      <td>0.071425</td>\n",
       "      <td>-0.321596</td>\n",
       "      <td>-0.596254</td>\n",
       "      <td>-0.378594</td>\n",
       "      <td>1.000000</td>\n",
       "    </tr>\n",
       "  </tbody>\n",
       "</table>\n",
       "</div>"
      ],
      "text/plain": [
       "                                  close    volume  \\\n",
       "close                          1.000000  0.400111   \n",
       "volume                         0.400111  1.000000   \n",
       "sector__Consumer Non-Durables -0.057898 -0.037239   \n",
       "sector__Consumer Services     -0.063709 -0.057941   \n",
       "sector__Energy                -0.041147 -0.025349   \n",
       "sector__Finance               -0.060050 -0.035461   \n",
       "sector__Health Care           -0.083047 -0.053905   \n",
       "sector__Miscellaneous         -0.044801 -0.032105   \n",
       "sector__N/A                    0.344566  0.251016   \n",
       "sector__Public Utilities      -0.041080 -0.026007   \n",
       "sector__Technology            -0.091843 -0.073956   \n",
       "sector__Transportation        -0.027504 -0.018395   \n",
       "market_type__commodity        -0.016333 -0.027996   \n",
       "market_type__currency         -0.083722 -0.051907   \n",
       "market_type__index             0.544363  0.074782   \n",
       "market_type__stock            -0.344566 -0.251016   \n",
       "\n",
       "                               sector__Consumer Non-Durables  \\\n",
       "close                                              -0.057898   \n",
       "volume                                             -0.037239   \n",
       "sector__Consumer Non-Durables                       1.000000   \n",
       "sector__Consumer Services                          -0.099620   \n",
       "sector__Energy                                     -0.044376   \n",
       "sector__Finance                                    -0.063738   \n",
       "sector__Health Care                                -0.093118   \n",
       "sector__Miscellaneous                              -0.054753   \n",
       "sector__N/A                                        -0.146195   \n",
       "sector__Public Utilities                           -0.044359   \n",
       "sector__Technology                                 -0.130002   \n",
       "sector__Transportation                             -0.031127   \n",
       "market_type__commodity                             -0.047016   \n",
       "market_type__currency                              -0.087169   \n",
       "market_type__index                                 -0.055349   \n",
       "market_type__stock                                  0.146195   \n",
       "\n",
       "                               sector__Consumer Services  sector__Energy  \\\n",
       "close                                          -0.063709       -0.041147   \n",
       "volume                                         -0.057941       -0.025349   \n",
       "sector__Consumer Non-Durables                  -0.099620       -0.044376   \n",
       "sector__Consumer Services                       1.000000       -0.069386   \n",
       "sector__Energy                                 -0.069386        1.000000   \n",
       "sector__Finance                                -0.099660       -0.044394   \n",
       "sector__Health Care                            -0.145599       -0.064858   \n",
       "sector__Miscellaneous                          -0.085611       -0.038136   \n",
       "sector__N/A                                    -0.228589       -0.101826   \n",
       "sector__Public Utilities                       -0.069360       -0.030897   \n",
       "sector__Technology                             -0.203269       -0.090547   \n",
       "sector__Transportation                         -0.048670       -0.021680   \n",
       "market_type__commodity                         -0.073513       -0.032747   \n",
       "market_type__currency                          -0.136297       -0.060714   \n",
       "market_type__index                             -0.086542       -0.038551   \n",
       "market_type__stock                              0.228589        0.101826   \n",
       "\n",
       "                               sector__Finance  sector__Health Care  \\\n",
       "close                                -0.060050            -0.083047   \n",
       "volume                               -0.035461            -0.053905   \n",
       "sector__Consumer Non-Durables        -0.063738            -0.093118   \n",
       "sector__Consumer Services            -0.099660            -0.145599   \n",
       "sector__Energy                       -0.044394            -0.064858   \n",
       "sector__Finance                       1.000000            -0.093155   \n",
       "sector__Health Care                  -0.093155             1.000000   \n",
       "sector__Miscellaneous                -0.054775            -0.080024   \n",
       "sector__N/A                          -0.146253            -0.213670   \n",
       "sector__Public Utilities             -0.044377            -0.064833   \n",
       "sector__Technology                   -0.130053            -0.190002   \n",
       "sector__Transportation               -0.031140            -0.045494   \n",
       "market_type__commodity               -0.047034            -0.068715   \n",
       "market_type__currency                -0.087204            -0.127402   \n",
       "market_type__index                   -0.055370            -0.080894   \n",
       "market_type__stock                    0.146253             0.213670   \n",
       "\n",
       "                               sector__Miscellaneous  sector__N/A  \\\n",
       "close                                      -0.044801     0.344566   \n",
       "volume                                     -0.032105     0.251016   \n",
       "sector__Consumer Non-Durables              -0.054753    -0.146195   \n",
       "sector__Consumer Services                  -0.085611    -0.228589   \n",
       "sector__Energy                             -0.038136    -0.101826   \n",
       "sector__Finance                            -0.054775    -0.146253   \n",
       "sector__Health Care                        -0.080024    -0.213670   \n",
       "sector__Miscellaneous                       1.000000    -0.125637   \n",
       "sector__N/A                                -0.125637     1.000000   \n",
       "sector__Public Utilities                   -0.038121    -0.101787   \n",
       "sector__Technology                         -0.111720    -0.298302   \n",
       "sector__Transportation                     -0.026750    -0.071425   \n",
       "market_type__commodity                     -0.040404     0.321596   \n",
       "market_type__currency                      -0.074911     0.596254   \n",
       "market_type__index                         -0.047565     0.378594   \n",
       "market_type__stock                          0.125637    -1.000000   \n",
       "\n",
       "                               sector__Public Utilities  sector__Technology  \\\n",
       "close                                         -0.041080           -0.091843   \n",
       "volume                                        -0.026007           -0.073956   \n",
       "sector__Consumer Non-Durables                 -0.044359           -0.130002   \n",
       "sector__Consumer Services                     -0.069360           -0.203269   \n",
       "sector__Energy                                -0.030897           -0.090547   \n",
       "sector__Finance                               -0.044377           -0.130053   \n",
       "sector__Health Care                           -0.064833           -0.190002   \n",
       "sector__Miscellaneous                         -0.038121           -0.111720   \n",
       "sector__N/A                                   -0.101787           -0.298302   \n",
       "sector__Public Utilities                       1.000000           -0.090512   \n",
       "sector__Technology                            -0.090512            1.000000   \n",
       "sector__Transportation                        -0.021672           -0.063513   \n",
       "market_type__commodity                        -0.032734           -0.095933   \n",
       "market_type__currency                         -0.060691           -0.177864   \n",
       "market_type__index                            -0.038536           -0.112935   \n",
       "market_type__stock                             0.101787            0.298302   \n",
       "\n",
       "                               sector__Transportation  market_type__commodity  \\\n",
       "close                                       -0.027504               -0.016333   \n",
       "volume                                      -0.018395               -0.027996   \n",
       "sector__Consumer Non-Durables               -0.031127               -0.047016   \n",
       "sector__Consumer Services                   -0.048670               -0.073513   \n",
       "sector__Energy                              -0.021680               -0.032747   \n",
       "sector__Finance                             -0.031140               -0.047034   \n",
       "sector__Health Care                         -0.045494               -0.068715   \n",
       "sector__Miscellaneous                       -0.026750               -0.040404   \n",
       "sector__N/A                                 -0.071425                0.321596   \n",
       "sector__Public Utilities                    -0.021672               -0.032734   \n",
       "sector__Technology                          -0.063513               -0.095933   \n",
       "sector__Transportation                       1.000000               -0.022970   \n",
       "market_type__commodity                      -0.022970                1.000000   \n",
       "market_type__currency                       -0.042587               -0.064325   \n",
       "market_type__index                          -0.027041               -0.040844   \n",
       "market_type__stock                           0.071425               -0.321596   \n",
       "\n",
       "                               market_type__currency  market_type__index  \\\n",
       "close                                      -0.083722            0.544363   \n",
       "volume                                     -0.051907            0.074782   \n",
       "sector__Consumer Non-Durables              -0.087169           -0.055349   \n",
       "sector__Consumer Services                  -0.136297           -0.086542   \n",
       "sector__Energy                             -0.060714           -0.038551   \n",
       "sector__Finance                            -0.087204           -0.055370   \n",
       "sector__Health Care                        -0.127402           -0.080894   \n",
       "sector__Miscellaneous                      -0.074911           -0.047565   \n",
       "sector__N/A                                 0.596254            0.378594   \n",
       "sector__Public Utilities                   -0.060691           -0.038536   \n",
       "sector__Technology                         -0.177864           -0.112935   \n",
       "sector__Transportation                     -0.042587           -0.027041   \n",
       "market_type__commodity                     -0.064325           -0.040844   \n",
       "market_type__currency                       1.000000           -0.075726   \n",
       "market_type__index                         -0.075726            1.000000   \n",
       "market_type__stock                         -0.596254           -0.378594   \n",
       "\n",
       "                               market_type__stock  \n",
       "close                                   -0.344566  \n",
       "volume                                  -0.251016  \n",
       "sector__Consumer Non-Durables            0.146195  \n",
       "sector__Consumer Services                0.228589  \n",
       "sector__Energy                           0.101826  \n",
       "sector__Finance                          0.146253  \n",
       "sector__Health Care                      0.213670  \n",
       "sector__Miscellaneous                    0.125637  \n",
       "sector__N/A                             -1.000000  \n",
       "sector__Public Utilities                 0.101787  \n",
       "sector__Technology                       0.298302  \n",
       "sector__Transportation                   0.071425  \n",
       "market_type__commodity                  -0.321596  \n",
       "market_type__currency                   -0.596254  \n",
       "market_type__index                      -0.378594  \n",
       "market_type__stock                       1.000000  "
      ]
     },
     "execution_count": 6,
     "metadata": {},
     "output_type": "execute_result"
    }
   ],
   "source": [
    "sql_df.corr()"
   ]
  },
  {
   "cell_type": "code",
   "execution_count": 7,
   "id": "96630daa",
   "metadata": {},
   "outputs": [
    {
     "data": {
      "text/plain": [
       "(6, 5, 3)"
      ]
     },
     "execution_count": 7,
     "metadata": {},
     "output_type": "execute_result"
    }
   ],
   "source": [
    "# Example feature input \n",
    "# np.array([\n",
    "#     [[1,1,1],[1,1,1],[1,1,1],[1,1,1],[1,1,1]],\n",
    "#     [[1,1,1],[1,1,1],[1,1,1],[1,1,1],[1,1,1]],\n",
    "#     [[1,1,1],[1,1,1],[1,1,1],[1,1,1],[1,1,1]],\n",
    "#     [[1,1,1],[1,1,1],[1,1,1],[1,1,1],[1,1,1]],\n",
    "#     [[1,1,1],[1,1,1],[1,1,1],[1,1,1],[1,1,1]],\n",
    "#     [[1,1,1],[1,1,1],[1,1,1],[1,1,1],[1,1,1]]\n",
    "# ]).shape"
   ]
  },
  {
   "cell_type": "code",
   "execution_count": 8,
   "id": "791428a3",
   "metadata": {},
   "outputs": [],
   "source": [
    "# Feature Scaling\n",
    "sc_close = MinMaxScaler(feature_range = (0, 1))\n",
    "sc_volume= MinMaxScaler(feature_range = (0, 1))\n",
    "timesteps = 60 # n of days to train per datapoint\n",
    "predict_gap = 1 # Predict x days in advanced\n",
    "symbol_list = sql_df['symbol'].unique()\n",
    "\n",
    "\n",
    "X_train_list = []\n",
    "y_train_list = []\n",
    "\n",
    "# Iterate each stock and create steps individually\n",
    "for symbol in symbol_list:\n",
    "    X_train = []\n",
    "    y_train = []\n",
    "    \n",
    "    \n",
    "    # Creating a data structure with time-steps and 1 output for numeric features\n",
    "    scaled_close = sc_close.fit_transform(sql_df[sql_df['symbol'] == symbol]['close'].values.reshape(-1,1))\n",
    "    scaled_volume = sc_volume.fit_transform(sql_df[sql_df['symbol'] == symbol]['volume'].values.reshape(-1,1))\n",
    "    \n",
    "    # Creating a data structure with time-steps for non-numerics\n",
    "    non_numeric_features = []\n",
    "    for row in sql_df[sql_df['symbol'] == symbol].select_dtypes(include=['uint8']).values:\n",
    "        row_l = [] \n",
    "        for col in row:\n",
    "            row_l.append([col] * timesteps)\n",
    "        non_numeric_features.append(row_l)\n",
    "    \n",
    "    for i in range(timesteps + predict_gap, scaled_close.shape[0]):\n",
    "        X_train.append([\n",
    "            scaled_close[i - timesteps - predict_gap:i - predict_gap, 0],\n",
    "            scaled_volume[i - timesteps - predict_gap:i - predict_gap, 0],\n",
    "        ] + non_numeric_features[i])\n",
    "        y_train.append(scaled_close[i, 0])\n",
    "        \n",
    "    X_train, y_train = np.array(X_train), np.array(y_train)\n",
    "    X_train = np.array(X_train).transpose((0,2,1))\n",
    "    X_train_list.append(X_train)\n",
    "    y_train_list.append(y_train)\n",
    "\n",
    "combined_X_train = np.concatenate(X_train_list)\n",
    "combined_y_train = np.concatenate(y_train_list)"
   ]
  },
  {
   "cell_type": "code",
   "execution_count": 10,
   "id": "60809045",
   "metadata": {},
   "outputs": [
    {
     "data": {
      "text/plain": [
       "(611, 60, 16)"
      ]
     },
     "execution_count": 10,
     "metadata": {},
     "output_type": "execute_result"
    }
   ],
   "source": [
    "X_train.shape"
   ]
  },
  {
   "cell_type": "code",
   "execution_count": 439,
   "id": "772a343e",
   "metadata": {
    "scrolled": true
   },
   "outputs": [
    {
     "data": {
      "text/plain": [
       "array([[[0.03381849, 0.00998729, 0.        , 1.        ],\n",
       "        [0.        , 0.03109647, 0.        , 1.        ],\n",
       "        [0.0130501 , 0.01837589, 0.        , 1.        ],\n",
       "        ...,\n",
       "        [0.09588715, 0.01495058, 0.        , 1.        ],\n",
       "        [0.09949906, 0.00719025, 0.        , 1.        ],\n",
       "        [0.10003655, 0.00366327, 0.        , 1.        ]],\n",
       "\n",
       "       [[0.        , 0.03109647, 0.        , 1.        ],\n",
       "        [0.0130501 , 0.01837589, 0.        , 1.        ],\n",
       "        [0.01234061, 0.01688649, 0.        , 1.        ],\n",
       "        ...,\n",
       "        [0.09949906, 0.00719025, 0.        , 1.        ],\n",
       "        [0.10003655, 0.00366327, 0.        , 1.        ],\n",
       "        [0.10268096, 0.00474594, 0.        , 1.        ]],\n",
       "\n",
       "       [[0.0130501 , 0.01837589, 0.        , 1.        ],\n",
       "        [0.01234061, 0.01688649, 0.        , 1.        ],\n",
       "        [0.01840345, 0.01153748, 0.        , 1.        ],\n",
       "        ...,\n",
       "        [0.10003655, 0.00366327, 0.        , 1.        ],\n",
       "        [0.10268096, 0.00474594, 0.        , 1.        ],\n",
       "        [0.10545439, 0.00641764, 0.        , 1.        ]],\n",
       "\n",
       "       ...,\n",
       "\n",
       "       [[0.69409747, 0.00560569, 0.        , 0.        ],\n",
       "        [0.6719328 , 0.00783733, 0.        , 0.        ],\n",
       "        [0.63383518, 0.01074952, 0.        , 0.        ],\n",
       "        ...,\n",
       "        [0.76061493, 0.63007379, 0.        , 0.        ],\n",
       "        [0.79134797, 0.86257037, 0.        , 0.        ],\n",
       "        [0.79393266, 0.55514678, 0.        , 0.        ]],\n",
       "\n",
       "       [[0.6719328 , 0.00783733, 0.        , 0.        ],\n",
       "        [0.63383518, 0.01074952, 0.        , 0.        ],\n",
       "        [0.66476883, 0.0081513 , 0.        , 0.        ],\n",
       "        ...,\n",
       "        [0.79134797, 0.86257037, 0.        , 0.        ],\n",
       "        [0.79393266, 0.55514678, 0.        , 0.        ],\n",
       "        [0.7971311 , 0.53706832, 0.        , 0.        ]],\n",
       "\n",
       "       [[0.63383518, 0.01074952, 0.        , 0.        ],\n",
       "        [0.66476883, 0.0081513 , 0.        , 0.        ],\n",
       "        [0.67194462, 0.00751267, 0.        , 0.        ],\n",
       "        ...,\n",
       "        [0.79393266, 0.55514678, 0.        , 0.        ],\n",
       "        [0.7971311 , 0.53706832, 0.        , 0.        ],\n",
       "        [0.78528159, 0.5586239 , 0.        , 0.        ]]])"
      ]
     },
     "execution_count": 439,
     "metadata": {},
     "output_type": "execute_result"
    }
   ],
   "source": [
    "combined_X_train"
   ]
  },
  {
   "cell_type": "code",
   "execution_count": 408,
   "id": "d07ac2b7",
   "metadata": {},
   "outputs": [
    {
     "data": {
      "text/plain": [
       "array([0.10545439, 0.11143122, 0.11429064, ..., 0.78528159, 0.79798083,\n",
       "       0.82607017])"
      ]
     },
     "execution_count": 408,
     "metadata": {},
     "output_type": "execute_result"
    }
   ],
   "source": [
    "combined_y_train"
   ]
  },
  {
   "cell_type": "code",
   "execution_count": 383,
   "id": "2ecca9ef",
   "metadata": {
    "scrolled": true
   },
   "outputs": [
    {
     "name": "stdout",
     "output_type": "stream",
     "text": [
      "Epoch 1/20\n",
      "58/58 [==============================] - 9s 72ms/step - loss: 0.0339\n",
      "Epoch 2/20\n",
      "58/58 [==============================] - 4s 63ms/step - loss: 0.0076\n",
      "Epoch 3/20\n",
      "58/58 [==============================] - 4s 61ms/step - loss: 0.0069\n",
      "Epoch 4/20\n",
      "58/58 [==============================] - 4s 61ms/step - loss: 0.0066\n",
      "Epoch 5/20\n",
      "58/58 [==============================] - 3s 60ms/step - loss: 0.0059\n",
      "Epoch 6/20\n",
      "58/58 [==============================] - 4s 70ms/step - loss: 0.0056\n",
      "Epoch 7/20\n",
      "58/58 [==============================] - 4s 62ms/step - loss: 0.0057\n",
      "Epoch 8/20\n",
      "58/58 [==============================] - 4s 70ms/step - loss: 0.0058\n",
      "Epoch 9/20\n",
      "58/58 [==============================] - 4s 70ms/step - loss: 0.0056\n",
      "Epoch 10/20\n",
      "58/58 [==============================] - 4s 68ms/step - loss: 0.0052\n",
      "Epoch 11/20\n",
      "58/58 [==============================] - 3s 60ms/step - loss: 0.0046\n",
      "Epoch 12/20\n",
      "58/58 [==============================] - 4s 61ms/step - loss: 0.0047\n",
      "Epoch 13/20\n",
      "58/58 [==============================] - 4s 61ms/step - loss: 0.0045\n",
      "Epoch 14/20\n",
      "58/58 [==============================] - 4s 67ms/step - loss: 0.0048\n",
      "Epoch 15/20\n",
      "58/58 [==============================] - 4s 61ms/step - loss: 0.0042\n",
      "Epoch 16/20\n",
      "58/58 [==============================] - 3s 59ms/step - loss: 0.0043\n",
      "Epoch 17/20\n",
      "58/58 [==============================] - 3s 60ms/step - loss: 0.0041\n",
      "Epoch 18/20\n",
      "58/58 [==============================] - 4s 67ms/step - loss: 0.0041\n",
      "Epoch 19/20\n",
      "58/58 [==============================] - 4s 62ms/step - loss: 0.0042\n",
      "Epoch 20/20\n",
      "58/58 [==============================] - 3s 60ms/step - loss: 0.0039\n"
     ]
    },
    {
     "data": {
      "text/plain": [
       "<keras.callbacks.History at 0x1f5b070dc88>"
      ]
     },
     "execution_count": 383,
     "metadata": {},
     "output_type": "execute_result"
    }
   ],
   "source": [
    "model = Sequential()\n",
    "\n",
    "#Adding the first LSTM layer and some Dropout regularisation\n",
    "model.add(LSTM(units = 50, return_sequences = True, input_shape = (combined_X_train.shape[1], combined_X_train.shape[2])))\n",
    "model.add(Dropout(0.2))\n",
    "\n",
    "# Adding a second LSTM layer and some Dropout regularisation\n",
    "model.add(LSTM(units = 50, return_sequences = True))\n",
    "model.add(Dropout(0.2))\n",
    "\n",
    "# Adding a third LSTM layer and some Dropout regularisation\n",
    "model.add(LSTM(units = 50, return_sequences = True))\n",
    "model.add(Dropout(0.2))\n",
    "\n",
    "# Adding a fourth LSTM layer and some Dropout regularisation\n",
    "model.add(LSTM(units = 50))\n",
    "model.add(Dropout(0.2))\n",
    "\n",
    "# Adding the output layer\n",
    "model.add(Dense(units = 1))\n",
    "\n",
    "# Compiling the RNN\n",
    "model.compile(optimizer = 'adam', loss = 'mean_squared_error')\n",
    "\n",
    "# Fitting the RNN to the Training set\n",
    "model.fit(combined_X_train, combined_y_train, epochs = 20, batch_size = 32)"
   ]
  },
  {
   "cell_type": "code",
   "execution_count": 274,
   "id": "4b89ca77",
   "metadata": {},
   "outputs": [
    {
     "name": "stderr",
     "output_type": "stream",
     "text": [
      "WARNING:absl:Found untraced functions such as lstm_cell_26_layer_call_and_return_conditional_losses, lstm_cell_26_layer_call_fn, lstm_cell_27_layer_call_and_return_conditional_losses, lstm_cell_27_layer_call_fn, lstm_cell_28_layer_call_and_return_conditional_losses while saving (showing 5 of 20). These functions will not be directly callable after loading.\n"
     ]
    },
    {
     "name": "stdout",
     "output_type": "stream",
     "text": [
      "INFO:tensorflow:Assets written to: ./lstm_model/model_2\\assets\n"
     ]
    },
    {
     "name": "stderr",
     "output_type": "stream",
     "text": [
      "INFO:tensorflow:Assets written to: ./lstm_model/model_2\\assets\n"
     ]
    }
   ],
   "source": [
    "# Saving model\n",
    "# model.save('./lstm_models/model_2')"
   ]
  },
  {
   "cell_type": "code",
   "execution_count": 191,
   "id": "3e61b981",
   "metadata": {},
   "outputs": [
    {
     "name": "stderr",
     "output_type": "stream",
     "text": [
      "WARNING:absl:Found untraced functions such as lstm_cell_26_layer_call_and_return_conditional_losses, lstm_cell_26_layer_call_fn, lstm_cell_27_layer_call_and_return_conditional_losses, lstm_cell_27_layer_call_fn, lstm_cell_28_layer_call_and_return_conditional_losses while saving (showing 5 of 20). These functions will not be directly callable after loading.\n"
     ]
    },
    {
     "name": "stdout",
     "output_type": "stream",
     "text": [
      "INFO:tensorflow:Assets written to: ./lstm_model\\assets\n"
     ]
    },
    {
     "name": "stderr",
     "output_type": "stream",
     "text": [
      "INFO:tensorflow:Assets written to: ./lstm_model\\assets\n"
     ]
    }
   ],
   "source": [
    "# Saving model\n",
    "#model.save('./lstm_model')"
   ]
  },
  {
   "cell_type": "code",
   "execution_count": 104,
   "id": "2ba159a8",
   "metadata": {},
   "outputs": [],
   "source": [
    "# model = Sequential()\n",
    "\n",
    "# #Adding the first LSTM layer and some Dropout regularisation\n",
    "# model.add(LSTM(units = 100, return_sequences = True, input_shape = (X_train.shape[1], 1)))\n",
    "\n",
    "# # Adding a second LSTM layer and some Dropout regularisation\n",
    "# model.add(LSTM(units = 100))\n",
    "# model.add(Dropout(0.4))\n",
    "\n",
    "# # Adding the output layer\n",
    "# model.add(Dense(units = 1))\n",
    "\n",
    "# # Compiling the RNN\n",
    "# model.compile(optimizer = 'adam', loss = 'mean_squared_error')\n",
    "\n",
    "# # Fitting the RNN to the Training set\n",
    "# model.fit(X_train, y_train, epochs = 100, batch_size = 32)"
   ]
  },
  {
   "cell_type": "markdown",
   "id": "2dbe9e50",
   "metadata": {},
   "source": [
    "# Validation"
   ]
  },
  {
   "cell_type": "code",
   "execution_count": 85,
   "id": "b7b7b286",
   "metadata": {},
   "outputs": [],
   "source": [
    "model = load_model('lstm_models/model_20')"
   ]
  },
  {
   "cell_type": "code",
   "execution_count": 86,
   "id": "d645a725",
   "metadata": {},
   "outputs": [],
   "source": [
    "sql_df = pd.read_sql(\n",
    "    sa.select(\n",
    "        StockPrices.stock_datetime, StockPrices.symbol, StockPrices.close, StockPrices.volume, Symbols.market_type, Symbols.sector) \\\n",
    "    .join(Symbols) \\\n",
    "    .where(StockPrices.symbol.in_([i[0] for i in shortlist_stock])) \\\n",
    "    .where(StockPrices.stock_datetime >= '2021-02-17 00:00:00') , con)\n",
    "\n",
    "sql_df = sql_df.join(pd.get_dummies(sql_df['sector'], prefix='sector_', drop_first=True)).drop('sector', axis=1)\n",
    "sql_df = sql_df.join(pd.get_dummies(sql_df['market_type'], prefix='market_type_', drop_first=True)).drop('market_type', axis=1)"
   ]
  },
  {
   "cell_type": "code",
   "execution_count": 87,
   "id": "c9f3dea8",
   "metadata": {},
   "outputs": [],
   "source": [
    "symbol = 'AAPL'\n",
    "# Test Validation\n",
    "X_test = []\n",
    "\n",
    "\n",
    "# Creating a data structure with time-steps and 1 output for numeric features\n",
    "scaled_close = sc_close.fit_transform(sql_df[sql_df['symbol'] == symbol]['close'].values.reshape(-1,1))\n",
    "scaled_volume = sc_volume.fit_transform(sql_df[sql_df['symbol'] == symbol]['volume'].values.reshape(-1,1))\n",
    "\n",
    "# Creating a data structure with time-steps for non-numerics\n",
    "non_numeric_features = []\n",
    "for row in sql_df[sql_df['symbol'] == symbol].select_dtypes(include=['uint8']).values:\n",
    "    row_l = [] \n",
    "    for col in row:\n",
    "        row_l.append([col] * timesteps)\n",
    "    non_numeric_features.append(row_l)\n",
    "\n",
    "for i in range(timesteps + predict_gap, scaled_close.shape[0]):\n",
    "    X_test.append([\n",
    "        scaled_close[i - timesteps - predict_gap:i - predict_gap, 0],\n",
    "        scaled_volume[i - timesteps - predict_gap:i - predict_gap, 0],\n",
    "    ] + non_numeric_features[i])\n",
    "X_test = np.array(X_test)\n",
    "X_test = np.array(X_test).transpose(0,2,1)"
   ]
  },
  {
   "cell_type": "code",
   "execution_count": 88,
   "id": "ead662eb",
   "metadata": {},
   "outputs": [],
   "source": [
    "predicted_stock_price = model.predict(X_test)\n",
    "predicted_stock_price = sc_close.inverse_transform(predicted_stock_price)"
   ]
  },
  {
   "cell_type": "markdown",
   "id": "449d20e2",
   "metadata": {},
   "source": [
    "# Visualising the results"
   ]
  },
  {
   "cell_type": "code",
   "execution_count": 89,
   "id": "202117d4",
   "metadata": {},
   "outputs": [
    {
     "data": {
      "image/png": "[encoded data removed]",
      "text/plain": [
       "<Figure size 432x288 with 1 Axes>"
      ]
     },
     "metadata": {
      "needs_background": "light"
     },
     "output_type": "display_data"
    }
   ],
   "source": [
    "# Using date prediction was made, to visualise prediction\n",
    "stock_datetime = sql_df[sql_df['symbol'] == symbol][timesteps + predict_gap -1: -1]['stock_datetime']\n",
    "pred_datetime = sql_df[sql_df['symbol'] == symbol][timesteps - 1: - predict_gap - 1]['stock_datetime']\n",
    "plt.plot(stock_datetime, sql_df[sql_df['symbol'] == symbol]['close'][predict_gap + timesteps:], color = 'red', label = 'Real Stock Price')\n",
    "plt.plot(pred_datetime, predicted_stock_price, color = 'blue', label = 'Predicted Stock Price')\n",
    "# plt.xticks(np.arange(0,459,50))\n",
    "plt.title('{} Stock Price Prediction using date of prediction'.format(symbol))\n",
    "plt.xlabel('Time')\n",
    "plt.ylabel('Stock Price')\n",
    "plt.legend()\n",
    "plt.show()"
   ]
  },
  {
   "cell_type": "code",
   "execution_count": 90,
   "id": "5f2e6497",
   "metadata": {},
   "outputs": [
    {
     "data": {
      "image/png": "[encoded data removed]",
      "text/plain": [
       "<Figure size 432x288 with 1 Axes>"
      ]
     },
     "metadata": {
      "needs_background": "light"
     },
     "output_type": "display_data"
    }
   ],
   "source": [
    "# Using actual stock date to compare accuracy\n",
    "stock_datetime = sql_df[sql_df['symbol'] == symbol][timesteps + predict_gap -1: -1]['stock_datetime']\n",
    "plt.plot(stock_datetime, sql_df[sql_df['symbol'] == symbol]['close'][predict_gap + timesteps:], color = 'red', label = 'Real Stock Price')\n",
    "plt.plot(stock_datetime, predicted_stock_price, color = 'blue', label = 'Predicted Stock Price')\n",
    "# plt.xticks(np.arange(0,459,50))\n",
    "plt.title('{} Stock Price Prediction vs Actual'.format(symbol))\n",
    "plt.xlabel('Time')\n",
    "plt.ylabel('Stock Price')\n",
    "plt.legend()\n",
    "plt.show()"
   ]
  },
  {
   "cell_type": "code",
   "execution_count": null,
   "id": "81326578",
   "metadata": {},
   "outputs": [],
   "source": []
  },
  {
   "cell_type": "code",
   "execution_count": 91,
   "id": "f344a825",
   "metadata": {},
   "outputs": [
    {
     "data": {
      "image/png": "[encoded data removed]",
      "text/plain": [
       "<Figure size 432x288 with 1 Axes>"
      ]
     },
     "metadata": {
      "needs_background": "light"
     },
     "output_type": "display_data"
    }
   ],
   "source": [
    "# Using actual stock date to compare accuracy\n",
    "stock_datetime = sql_df[sql_df['symbol'] == symbol][timesteps + predict_gap -1: -1]['stock_datetime']\n",
    "plt.plot(stock_datetime, sql_df[sql_df['symbol'] == symbol]['close'][predict_gap + timesteps:], color = 'red', label = 'Real Stock Price')\n",
    "plt.plot(stock_datetime, predicted_stock_price, color = 'blue', label = 'Predicted Stock Price')\n",
    "# plt.xticks(np.arange(0,459,50))\n",
    "plt.title('{} Stock Price Prediction vs Actual'.format(symbol))\n",
    "plt.xlabel('Time')\n",
    "plt.ylabel('Stock Price')\n",
    "plt.legend()\n",
    "plt.show()"
   ]
  },
  {
   "cell_type": "code",
   "execution_count": 92,
   "id": "123d8559",
   "metadata": {},
   "outputs": [],
   "source": [
    "from sklearn.metrics import mean_squared_error"
   ]
  },
  {
   "cell_type": "code",
   "execution_count": 93,
   "id": "fa4316b7",
   "metadata": {},
   "outputs": [],
   "source": [
    "actual = sql_df[sql_df['symbol'] == symbol]['close'][predict_gap + timesteps:]\n",
    "pred = predicted_stock_price"
   ]
  },
  {
   "cell_type": "code",
   "execution_count": 94,
   "id": "7d840a46",
   "metadata": {},
   "outputs": [
    {
     "data": {
      "text/plain": [
       "37.460056327693984"
      ]
     },
     "execution_count": 94,
     "metadata": {},
     "output_type": "execute_result"
    }
   ],
   "source": [
    "mean_squared_error(actual, pred)"
   ]
  },
  {
   "cell_type": "code",
   "execution_count": 95,
   "id": "ac72a4d8",
   "metadata": {},
   "outputs": [
    {
     "data": {
      "text/plain": [
       "6.120462100829805"
      ]
     },
     "execution_count": 95,
     "metadata": {},
     "output_type": "execute_result"
    }
   ],
   "source": [
    "math.sqrt(mean_squared_error(actual, pred))"
   ]
  },
  {
   "cell_type": "code",
   "execution_count": null,
   "id": "e4f93fd0",
   "metadata": {},
   "outputs": [],
   "source": []
  }
 ],
 "metadata": {
  "kernelspec": {
   "display_name": "Python 3",
   "language": "python",
   "name": "python3"
  },
  "language_info": {
   "codemirror_mode": {
    "name": "ipython",
    "version": 3
   },
   "file_extension": ".py",
   "mimetype": "text/x-python",
   "name": "python",
   "nbconvert_exporter": "python",
   "pygments_lexer": "ipython3",
   "version": "3.7.10"
  }
 },
 "nbformat": 4,
 "nbformat_minor": 5
}
